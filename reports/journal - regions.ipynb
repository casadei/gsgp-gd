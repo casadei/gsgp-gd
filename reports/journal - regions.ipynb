{
 "cells": [
  {
   "cell_type": "code",
   "execution_count": 260,
   "metadata": {
    "collapsed": true
   },
   "outputs": [],
   "source": [
    "import numpy as np\n",
    "import math\n",
    "from sklearn.manifold import TSNE\n",
    "\n",
    "BASE_PATH = \"/Volumes/externo/gsgp-mo/results/\"\n",
    "OUTPUT_PATH = \"/Volumes/externo/assets\"\n",
    "STRATEGIES = ['random', 'kmeans', 'kernel']\n",
    "STRATEGIES_TITLES = ['Random', 'K-Means', 'Kernel K-Means']\n",
    "K = range(2, 6)\n",
    "#COLORS = [\"#3F5D7D\", \"green\", \"orange\"]\n",
    "COLORS = [\"#5F6CAF\", \"#FFB677\", \"#F0134D\"]\n",
    "STRATEGY_COLORS = [\"#FE9801\", \"#F65C78\", \"#018383\"]\n",
    "DATASETS = ['bioavailability', 'ccn', 'ccun', 'concrete', 'energyCooling', 'energyHeating',\n",
    "            'keijzer-7', 'parkinsons', 'towerData', 'vladislavleva-1', 'wineRed', 'wineWhite',\n",
    "            'yacht']\n",
    "\n",
    "def bit_to_int(value):\n",
    "    return int(math.log(value, 2))\n",
    "\n",
    "def parse_groups(path, execution = 0):\n",
    "    file = open(\"%s/groups-%02d.txt\" % (path, execution + 1))\n",
    "    content = file.read().splitlines()\n",
    "    file.close()\n",
    "    \n",
    "    k, groups = int(content[0]), list(map(lambda row: row.split(','), content[1:]))\n",
    "    training = list(filter(lambda g: g[0] == \"TRAINING\", groups))\n",
    "    validation = list(filter(lambda g: g[0] == \"VALIDATION\", groups))\n",
    "    test = list(filter(lambda g: g[0] == \"TEST\", groups))\n",
    "    \n",
    "    return k, training, validation, test"
   ]
  },
  {
   "cell_type": "code",
   "execution_count": 889,
   "metadata": {
    "collapsed": false
   },
   "outputs": [],
   "source": [
    "from sklearn.preprocessing import Normalizer\n",
    "import matplotlib.pyplot as plt\n",
    "from mpl_toolkits.mplot3d import Axes3D\n",
    "\n",
    "def embbed_x_and_y(dataset, execution = 0):\n",
    "    path = \"%s/%s/%s/%s/output-%s/\" % (BASE_PATH, 'gp', \"random\", 2, dataset)\n",
    "    k, training, _, _  = parse_groups(path, execution)\n",
    "    \n",
    "    helper = np.matrix(list(map(lambda arr: arr[1:], training)))\n",
    "    x = np.squeeze(np.asarray(helper[:, 1:]).astype('float'))\n",
    "    y = [np.squeeze(np.asarray(helper[:, -1]).astype('float'))]\n",
    "\n",
    "    x_norm = Normalizer().fit(x).transform(x)\n",
    "    y_norm = Normalizer().fit(y).transform(y)\n",
    "    \n",
    "    tsne = TSNE(n_components=2, n_iter=5000, perplexity=30.0, learning_rate=200.0, random_state=123456)\n",
    "    x_embedded = tsne.fit_transform(x_norm)\n",
    "    x1, x2 = list(zip(*x_embedded))\n",
    "    \n",
    "    return tsne, x1, x2, y_norm[0]   \n",
    "\n",
    "def groups_colors(dataset, strategy, k, execution = 0):\n",
    "    path = \"%s/%s/%s/%s/output-%s/\" % (BASE_PATH, 'gp', strategy, k, dataset)\n",
    "    k, training, _, _  = parse_groups(path, execution)\n",
    "\n",
    "    helper = np.matrix(list(map(lambda arr: arr[1:], training)))\n",
    "\n",
    "    g = np.array(list(map(bit_to_int, np.squeeze(np.asarray(helper[:,0]).astype('int')))))\n",
    "    colors = [\"red\", \"blue\", \"green\", \"orange\", \"purple\"]\n",
    "    marker = [\"o\", \"v\", \"s\", \"*\", \"D\"]\n",
    "    return zip(*list(map(lambda k: (colors[k], marker[k], \"Region %s\" % (k + 1)), g)))\n",
    "    \n",
    "def plot_regions(dataset,):\n",
    "    tsne, x1, x2, y = embbed_x_and_y(dataset)\n",
    "    \n",
    "    f, ax = plt.subplots(len(STRATEGIES),len(K), sharey=True, figsize=(16,8)) \n",
    "    f.suptitle(dataset.upper(), fontsize=13,  y=1)\n",
    "    \n",
    "    for row, strategy in enumerate(STRATEGIES):\n",
    "        for col, k in enumerate(K):        \n",
    "            colors, markers, labels = groups_colors(dataset, strategy, k)\n",
    "            index = row * (len(STRATEGIES) + 1) + col + 1\n",
    "            ax[row, col].remove()\n",
    "            ax[row, col]=f.add_subplot(len(STRATEGIES), len(K), index, projection='3d', facecolor='white')\n",
    "            ax[row, col].set_xticks([])\n",
    "            ax[row, col].set_yticks([])\n",
    "            ax[row, col].set_zticks([])\n",
    "            ax[row, col].grid(True)\n",
    "            \n",
    "            packed = list(zip(x1, x2, y, colors, markers, labels))\n",
    "            \n",
    "            for label in np.unique(labels):\n",
    "                filtered = list(filter(lambda arr: arr[-1] == label, packed))\n",
    "                (l_x1, l_x2, l_y, l_c, _, l_l) = zip(*filtered)\n",
    "                \n",
    "                ax[row, col].scatter(l_x1, l_x2, l_y, color=l_c, label=label, alpha=0.3) \n",
    "        \n",
    "        pad = 5\n",
    "        \n",
    "        # Set a top title of each column\n",
    "        for curr_col, curr_ax in enumerate(ax[0]):\n",
    "            curr_ax.annotate(\"K = %s\" % K[curr_col], xy=(0.5, 1), xytext=(0, pad),\n",
    "                        xycoords='axes fraction', textcoords='offset points',\n",
    "                        size='large', ha='center', va='baseline')\n",
    "            \n",
    "        # Set a left title for each row\n",
    "        for curr_row, curr_ax in enumerate(ax[:, 0]):\n",
    "            curr_ax.annotate(STRATEGIES_TITLES[curr_row], xy=(0, 0.5), xytext=(-curr_ax.yaxis.labelpad - pad, 0),\n",
    "                        xycoords='axes fraction', textcoords='offset points',\n",
    "                        size='large', ha='right', va='center', rotation=90)\n",
    "        \n",
    "        # Unify axis labels\n",
    "    for curr_ax in ax[-1]:\n",
    "        curr_ax.set_xlabel('$x_1$')\n",
    "        curr_ax.set_ylabel('$x_2$')\n",
    "    \n",
    "    for curr_ax in ax[:, -1]:\n",
    "        curr_ax.set_zlabel('y', linespacing=0)\n",
    "        \n",
    "    h, l = ax[0,-1].get_legend_handles_labels()\n",
    "    f.legend(h, l, loc='lower center', ncol=5, labelspacing=0. )        \n",
    "    f.tight_layout(rect=[0, 0.05, 1.05, 0.9])\n",
    "    \n",
    "    return (tsne, f)"
   ]
  },
  {
   "cell_type": "code",
   "execution_count": 890,
   "metadata": {
    "collapsed": false
   },
   "outputs": [
    {
     "name": "stdout",
     "output_type": "stream",
     "text": [
      "Generating region asset for bioavailability\n",
      "KL Divergence: 0.21132\n",
      "Generating region asset for concrete\n",
      "KL Divergence: 0.36555\n",
      "Generating region asset for wineRed\n",
      "KL Divergence: 0.55156\n"
     ]
    }
   ],
   "source": [
    "selected = ['bioavailability', 'concrete', 'wineRed']\n",
    "for dataset in selected:\n",
    "    print(\"Generating region asset for %s\" % (dataset))\n",
    "    tsne, f = plot_regions(dataset)\n",
    "    f.savefig(\"%s/regions_%s.pdf\" % (OUTPUT_PATH, dataset), bbox_inches='tight', pad_inches=0.5) \n",
    "    print(\"KL Divergence: %.5f\" % tsne.kl_divergence_)\n",
    "    plt.close()"
   ]
  },
  {
   "cell_type": "code",
   "execution_count": 891,
   "metadata": {
    "collapsed": false
   },
   "outputs": [
    {
     "name": "stdout",
     "output_type": "stream",
     "text": [
      "Generating region asset for towerData\n",
      "KL Divergence: 0.37464\n",
      "Generating region asset for parkinsons\n",
      "KL Divergence: 0.58296\n"
     ]
    }
   ],
   "source": [
    "selected = ['towerData', 'parkinsons']\n",
    "for dataset in selected:\n",
    "    print(\"Generating region asset for %s\" % (dataset))\n",
    "    tsne, f = plot_regions(dataset)\n",
    "    f.savefig(\"%s/regions_%s.pdf\" % (OUTPUT_PATH, dataset), bbox_inches='tight', pad_inches=0.5) \n",
    "    print(\"KL Divergence: %.5f\" % tsne.kl_divergence_)\n",
    "    plt.close()"
   ]
  },
  {
   "cell_type": "code",
   "execution_count": 291,
   "metadata": {
    "collapsed": false
   },
   "outputs": [],
   "source": []
  },
  {
   "cell_type": "code",
   "execution_count": null,
   "metadata": {
    "collapsed": false
   },
   "outputs": [],
   "source": []
  },
  {
   "cell_type": "code",
   "execution_count": null,
   "metadata": {
    "collapsed": false
   },
   "outputs": [],
   "source": []
  },
  {
   "cell_type": "code",
   "execution_count": null,
   "metadata": {
    "collapsed": false
   },
   "outputs": [],
   "source": []
  },
  {
   "cell_type": "code",
   "execution_count": null,
   "metadata": {
    "collapsed": true
   },
   "outputs": [],
   "source": []
  }
 ],
 "metadata": {
  "anaconda-cloud": {},
  "kernelspec": {
   "display_name": "Python [default]",
   "language": "python",
   "name": "python3"
  },
  "language_info": {
   "codemirror_mode": {
    "name": "ipython",
    "version": 3
   },
   "file_extension": ".py",
   "mimetype": "text/x-python",
   "name": "python",
   "nbconvert_exporter": "python",
   "pygments_lexer": "ipython3",
   "version": "3.5.2"
  }
 },
 "nbformat": 4,
 "nbformat_minor": 2
}
