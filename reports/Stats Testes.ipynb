{
 "cells": [
  {
   "cell_type": "code",
   "execution_count": 14,
   "metadata": {
    "collapsed": false
   },
   "outputs": [],
   "source": [
    "import numpy as np\n",
    "import pandas as pd\n",
    "from scipy import stats\n",
    "\n",
    "BASE_PATH = \"/Volumes/externo/gsgp-mo/results/\"\n",
    "OUTPUT_PATH = \"/Volumes/externo/assets\"\n",
    "STRATEGIES = ['random', 'kmeans', 'kernel']\n",
    "DATASETS = ['bioavailability', 'ccn', 'ccun', 'concrete', 'energyCooling', 'energyHeating', \n",
    "            'parkinsons', 'towerData', 'wineRed', 'wineWhite']\n",
    "\n",
    "\n",
    "def load_fitness(evol, strategy, k, dataset, ensemble):\n",
    "    if (strategy == 'single'):\n",
    "        return np.loadtxt(\"%s/%s/single/output-%s/tsFitness.csv\" % (BASE_PATH, evol, dataset), delimiter=',', unpack=True)[-1]        \n",
    "    return np.loadtxt(\"%s/%s/%s/%s/output-%s/test_ensemble_%s_fitness.csv\" % (BASE_PATH, evol, strategy, k, dataset, ensemble), delimiter=',', unpack=True)[-1] "
   ]
  },
  {
   "cell_type": "code",
   "execution_count": 58,
   "metadata": {
    "collapsed": false
   },
   "outputs": [
    {
     "data": {
      "text/html": [
       "<div>\n",
       "<table border=\"1\" class=\"dataframe\">\n",
       "  <thead>\n",
       "    <tr style=\"text-align: right;\">\n",
       "      <th></th>\n",
       "      <th>Dataset</th>\n",
       "      <th>(single, 1)</th>\n",
       "      <th>(kmeans, 2)</th>\n",
       "      <th>p-value</th>\n",
       "    </tr>\n",
       "  </thead>\n",
       "  <tbody>\n",
       "    <tr>\n",
       "      <th>0</th>\n",
       "      <td>bioavailability</td>\n",
       "      <td>31.138390</td>\n",
       "      <td>31.044823</td>\n",
       "      <td>0.39063</td>\n",
       "    </tr>\n",
       "    <tr>\n",
       "      <th>1</th>\n",
       "      <td>ccn</td>\n",
       "      <td>0.138780</td>\n",
       "      <td>0.139209</td>\n",
       "      <td>0.19667</td>\n",
       "    </tr>\n",
       "    <tr>\n",
       "      <th>2</th>\n",
       "      <td>ccun</td>\n",
       "      <td>377.625265</td>\n",
       "      <td>392.610214</td>\n",
       "      <td>0.01351</td>\n",
       "    </tr>\n",
       "    <tr>\n",
       "      <th>3</th>\n",
       "      <td>concrete</td>\n",
       "      <td>6.932460</td>\n",
       "      <td>6.921464</td>\n",
       "      <td>0.23897</td>\n",
       "    </tr>\n",
       "    <tr>\n",
       "      <th>4</th>\n",
       "      <td>energyCooling</td>\n",
       "      <td>2.381450</td>\n",
       "      <td>2.254219</td>\n",
       "      <td>0.04889</td>\n",
       "    </tr>\n",
       "    <tr>\n",
       "      <th>5</th>\n",
       "      <td>energyHeating</td>\n",
       "      <td>1.921825</td>\n",
       "      <td>1.816439</td>\n",
       "      <td>0.14011</td>\n",
       "    </tr>\n",
       "    <tr>\n",
       "      <th>6</th>\n",
       "      <td>parkinsons</td>\n",
       "      <td>9.771965</td>\n",
       "      <td>9.802973</td>\n",
       "      <td>0.29997</td>\n",
       "    </tr>\n",
       "    <tr>\n",
       "      <th>7</th>\n",
       "      <td>towerData</td>\n",
       "      <td>33.938860</td>\n",
       "      <td>33.446547</td>\n",
       "      <td>0.36716</td>\n",
       "    </tr>\n",
       "    <tr>\n",
       "      <th>8</th>\n",
       "      <td>wineRed</td>\n",
       "      <td>0.633770</td>\n",
       "      <td>0.631022</td>\n",
       "      <td>0.46313</td>\n",
       "    </tr>\n",
       "    <tr>\n",
       "      <th>9</th>\n",
       "      <td>wineWhite</td>\n",
       "      <td>0.719090</td>\n",
       "      <td>0.717477</td>\n",
       "      <td>0.35178</td>\n",
       "    </tr>\n",
       "  </tbody>\n",
       "</table>\n",
       "</div>"
      ],
      "text/plain": [
       "           Dataset  (single, 1)  (kmeans, 2)  p-value\n",
       "0  bioavailability    31.138390    31.044823  0.39063\n",
       "1              ccn     0.138780     0.139209  0.19667\n",
       "2             ccun   377.625265   392.610214  0.01351\n",
       "3         concrete     6.932460     6.921464  0.23897\n",
       "4    energyCooling     2.381450     2.254219  0.04889\n",
       "5    energyHeating     1.921825     1.816439  0.14011\n",
       "6       parkinsons     9.771965     9.802973  0.29997\n",
       "7        towerData    33.938860    33.446547  0.36716\n",
       "8          wineRed     0.633770     0.631022  0.46313\n",
       "9        wineWhite     0.719090     0.717477  0.35178"
      ]
     },
     "execution_count": 58,
     "metadata": {},
     "output_type": "execute_result"
    }
   ],
   "source": [
    "data = []\n",
    "\n",
    "source = (\"single\", 1)\n",
    "target = (\"kmeans\", 2)\n",
    "\n",
    "for dataset in DATASETS:\n",
    "    x = load_fitness('gsgp', source[0], source[1], dataset, 'stacking')\n",
    "    y = load_fitness('gsgp', target[0], target[1], dataset, 'unweighted')\n",
    "    p = stats.wilcoxon(x, y)\n",
    "    data.append([dataset, np.median(x), np.median(y), \"%0.5f\" % (p.pvalue / 2)])\n",
    "\n",
    "columns = ('Dataset', source, target, 'p-value')\n",
    "df = pd.DataFrame(data=data, columns = columns)\n",
    "df"
   ]
  },
  {
   "cell_type": "code",
   "execution_count": null,
   "metadata": {
    "collapsed": true
   },
   "outputs": [],
   "source": []
  }
 ],
 "metadata": {
  "kernelspec": {
   "display_name": "Python [default]",
   "language": "python",
   "name": "python3"
  },
  "language_info": {
   "codemirror_mode": {
    "name": "ipython",
    "version": 3
   },
   "file_extension": ".py",
   "mimetype": "text/x-python",
   "name": "python",
   "nbconvert_exporter": "python",
   "pygments_lexer": "ipython3",
   "version": "3.5.2"
  }
 },
 "nbformat": 4,
 "nbformat_minor": 2
}
