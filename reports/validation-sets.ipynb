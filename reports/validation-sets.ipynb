{
 "cells": [
  {
   "cell_type": "code",
   "execution_count": 163,
   "metadata": {
    "collapsed": false
   },
   "outputs": [],
   "source": [
    "import glob\n",
    "import math\n",
    "import numpy as np\n",
    "\n",
    "source_path  = '/Users/casadei/development/casadei/gsgp-mo/experiments/data/source'\n",
    "target_path  = '/Users/casadei/development/casadei/gsgp-mo/experiments/data/'\n",
    "samples_size = 0.2\n",
    "datasets = [\n",
    "    \"airfoil\",\"ccn\",\"concrete\",\"keijzer-7\",\"parkinsons\",\"towerData\",\"vladislavleva-1\",\n",
    "    \"vladislavleva-4\",\"yacht\"\n",
    "]\n",
    "\n",
    "np.random.seed(seed=12356)\n",
    "\n",
    "def split_file(data, samples):\n",
    "    source = []\n",
    "    validation = []\n",
    "    \n",
    "    for index, line in enumerate(data):\n",
    "        if index in samples:\n",
    "            validation.append(line)\n",
    "        else:\n",
    "            source.append(line)\n",
    "            \n",
    "    return (source, validation)\n",
    "\n",
    "def read_file(filename):\n",
    "    content = None\n",
    "    \n",
    "    with open(filename) as f:\n",
    "        content = f.readlines()\n",
    "        \n",
    "    return content\n",
    "\n",
    "def write_file(filename, data):\n",
    "    with open(filename, \"w\") as f:\n",
    "        for line in data:\n",
    "            f.write(line)\n",
    "        f.close()\n",
    "\n",
    "def generate(dataset):\n",
    "    folds = len(glob.glob(source_path + '/' + dataset + '-train-*.dat'))\n",
    "\n",
    "    if folds == 0:\n",
    "        raise Exception(\"File not found.\")\n",
    "        \n",
    "    for i in range(0, folds):\n",
    "        train = read_file(\"{0}/{1}-train-{2}.dat\".format(source_path, dataset, i))\n",
    "        test = read_file(\"{0}/{1}-test-{2}.dat\".format(source_path, dataset, i))\n",
    "        \n",
    "        source = train if len(train) >= len(test) else test\n",
    "        unmodified = test if len(train) >= len(test) else train\n",
    "        \n",
    "        samples = np.random.choice(len(source), int(min(len(source) * samples_size, len(train))), replace=False)\n",
    "        target, validation = split_file(source, samples)\n",
    "\n",
    "        if len(train) >= len(test):\n",
    "            write_file(\"{0}/{1}-train-{2}.dat\".format(target_path, dataset, i), target)\n",
    "            write_file(\"{0}/{1}-test-{2}.dat\".format(target_path, dataset, i), test)\n",
    "            write_file(\"{0}/{1}-validation-{2}.dat\".format(target_path, dataset, i), validation)\n",
    "        else:\n",
    "            write_file(\"{0}/{1}-train-{2}.dat\".format(target_path, dataset, i), train)\n",
    "            write_file(\"{0}/{1}-test-{2}.dat\".format(target_path, dataset, i), target)\n",
    "            write_file(\"{0}/{1}-validation-{2}.dat\".format(target_path, dataset, i), validation)\n",
    "            \n",
    "        "
   ]
  },
  {
   "cell_type": "code",
   "execution_count": 164,
   "metadata": {
    "collapsed": false
   },
   "outputs": [],
   "source": [
    "for dataset in datasets:\n",
    "    generate(dataset)"
   ]
  },
  {
   "cell_type": "code",
   "execution_count": null,
   "metadata": {
    "collapsed": true
   },
   "outputs": [],
   "source": []
  },
  {
   "cell_type": "code",
   "execution_count": null,
   "metadata": {
    "collapsed": false
   },
   "outputs": [],
   "source": []
  },
  {
   "cell_type": "code",
   "execution_count": null,
   "metadata": {
    "collapsed": true
   },
   "outputs": [],
   "source": []
  }
 ],
 "metadata": {
  "anaconda-cloud": {},
  "kernelspec": {
   "display_name": "Python [default]",
   "language": "python",
   "name": "python3"
  },
  "language_info": {
   "codemirror_mode": {
    "name": "ipython",
    "version": 3
   },
   "file_extension": ".py",
   "mimetype": "text/x-python",
   "name": "python",
   "nbconvert_exporter": "python",
   "pygments_lexer": "ipython3",
   "version": "3.5.2"
  }
 },
 "nbformat": 4,
 "nbformat_minor": 2
}
