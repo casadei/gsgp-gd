{
 "cells": [
  {
   "cell_type": "code",
   "execution_count": 184,
   "metadata": {
    "collapsed": false
   },
   "outputs": [],
   "source": [
    "import matplotlib.pyplot as plt  \n",
    "import numpy as np\n",
    "from scipy.stats import iqr\n",
    "\n",
    "BASE_PATH = \"/Volumes/externo/gsgp-mo/results/\"\n",
    "OUTPUT_PATH = \"/Volumes/externo/assets\"\n",
    "STRATEGIES = ['random', 'kmeans', 'kernel']\n",
    "STRATEGIES_TITLES = ['Random', 'K-Means', 'Kernel K-Means']\n",
    "ENSEMBLERS = ['Best by Region', 'Unweighted', 'Weighted']\n",
    "ENSEMBLERS_MARKERS = ['o', 's', 'v']\n",
    "K = range(2, 6)\n",
    "#COLORS = [\"#3F5D7D\", \"green\", \"orange\"]\n",
    "COLORS = [\"#5F6CAF\", \"#FFB677\", \"#F0134D\"]\n",
    "STRATEGY_COLORS = [\"#FE9801\", \"#F65C78\", \"#018383\"]\n",
    "DATASETS = ['bioavailability', 'ccn', 'ccun', 'concrete', 'energyCooling', 'energyHeating',\n",
    "            'parkinsons', 'towerData', 'wineRed', 'wineWhite']\n",
    "\n",
    "def plot(dataset, benchmark, y_values, y_errors, q_values, q_errors):\n",
    "    f, ax1 = plt.subplots(1,1, sharey=True, figsize=(8,4)) \n",
    "    f.suptitle(dataset.upper(), fontsize=13)\n",
    "    f.subplots_adjust(top=0.8, bottom=0.2)\n",
    "    \n",
    "    ax1.plot(K, benchmark, color=\"gray\", label=\"Single\", linestyle='dashed')\n",
    "    ax1.spines[\"top\"].set_visible(False)  \n",
    "    ax1.spines[\"right\"].set_visible(False)      \n",
    "    ax1.get_yaxis().tick_left()  \n",
    "    ax1.get_xaxis().tick_bottom()  \n",
    "    ax1.set_xlabel('Number of Regions')\n",
    "    ax1.set_ylabel('Median Test RMSE')\n",
    "    ax1.set_xticks(K)  \n",
    "    ax1.set_xticklabels(K) \n",
    "\n",
    "    ax2 = ax1.twinx() \n",
    "    ax2.set_ylabel('Mean % of lower or equal RMSEs')\n",
    "    ax1.set_zorder(100)\n",
    "    ax1.patch.set_visible(False)\n",
    "    \n",
    "    corrections = [-0.2, 0.0, 0.2]\n",
    "    \n",
    "    for i, (y, y_err, q, q_err) in enumerate(zip(y_values, y_errors, q_values, q_errors)):\n",
    "        ax2.bar(np.array(K) + corrections[i], q, width=0.2, alpha=0.5, color=COLORS[i])        \n",
    "        ax1.plot(K, y, color=COLORS[i], label=ENSEMBLERS[i], marker=ENSEMBLERS_MARKERS[i], alpha=0.85)            \n",
    "        \n",
    "    h, l = ax1.get_legend_handles_labels()\n",
    "    f.legend(h, l, loc='lower center', ncol=5, labelspacing=0.) \n",
    "        \n",
    "    # Make the title big enough so it spans the entire plot, but don't make it  \n",
    "    # so big that it requires two lines to show.  \n",
    "\n",
    "    return f"
   ]
  },
  {
   "cell_type": "code",
   "execution_count": 185,
   "metadata": {
    "collapsed": false
   },
   "outputs": [],
   "source": [
    "def measure_ensemble_quality(path, mode, ensembled_fitness):\n",
    "    file = open(\"%s/non_dominated_fitness_%s.csv\" % (path, mode))\n",
    "    non_dominated = list(map(lambda s: np.array(s.split(\",\")).astype(float), file.read().splitlines()))\n",
    "    \n",
    "#    assert len(target_fitness) == len(content):\n",
    "    res = []\n",
    "    for i in range(len(ensembled_fitness)):\n",
    "        count = sum(map(lambda y : int(ensembled_fitness[i] <= y), non_dominated[i][1:]))\n",
    "        res.append(count / len(non_dominated[i][1:]) * 100)\n",
    "        \n",
    "    return res\n",
    "\n",
    "def plot_dataset_test(evol, dataset, strategy):\n",
    "    benchmarks = np.loadtxt(\"%s/%s/%s/output-%s/tsFitness.csv\" % (BASE_PATH, evol, \"single\", dataset), delimiter=',', unpack=True)[-1]\n",
    "    benchmarks = np.repeat([np.median(benchmarks)], len(K))\n",
    "\n",
    "    y_values = []\n",
    "    y_errors = []\n",
    "    q_values = []\n",
    "    q_errors = []\n",
    "    \n",
    "    for ensemble in ['stacking', 'unweighted', 'weighted']:\n",
    "        curr_values = []\n",
    "        curr_errors = []\n",
    "        curr_q = []\n",
    "        curr_q_err = []\n",
    "        \n",
    "        for k in K:\n",
    "            directory = \"%s/%s/%s/%s/output-%s\" % (BASE_PATH, evol, strategy, k, dataset)\n",
    "            predicted = np.loadtxt(\"%s/test_ensemble_%s_fitness.csv\" % (directory, ensemble), delimiter=',', unpack=True)[-1]\n",
    "\n",
    "            curr_values.append(np.median(predicted))\n",
    "            curr_errors.append(iqr(predicted))\n",
    "\n",
    "            q = measure_ensemble_quality(directory, \"test\", predicted)\n",
    "            curr_q.append(np.mean(q))\n",
    "            curr_q_err.append(np.std(q))\n",
    "\n",
    "        y_values.append(curr_values)\n",
    "        y_errors.append(curr_errors)\n",
    "        q_values.append(curr_q)\n",
    "        q_errors.append(curr_q_err)\n",
    "\n",
    "    return plot(dataset, benchmarks, np.array(y_values), np.array(y_errors), np.array(q_values), np.array(q_errors))\n",
    "\n"
   ]
  },
  {
   "cell_type": "code",
   "execution_count": 414,
   "metadata": {
    "collapsed": false
   },
   "outputs": [],
   "source": [
    "for mode in ['gp']:\n",
    "    strategy = 'kernel'\n",
    "    for dataset in DATASETS:\n",
    "        f = plot_dataset_test(mode, dataset, strategy)\n",
    "        f.savefig(\"%s/%s_ensemble_%s.pdf\" % (OUTPUT_PATH, strategy, dataset), bbox_inches='tight', pad_inches=0.5) \n",
    "        plt.close()"
   ]
  },
  {
   "cell_type": "code",
   "execution_count": 292,
   "metadata": {
    "collapsed": false
   },
   "outputs": [],
   "source": [
    "def export_as_row(evol, strategy, k, mode, ensemble, precision = \"%.5f\"):\n",
    "    medians = []\n",
    "    for dataset in DATASETS:\n",
    "        directory, predicted = None, None\n",
    "        if strategy == \"single\":\n",
    "            directory = \"%s/%s/%s/output-%s\" % (BASE_PATH, evol, strategy, dataset)\n",
    "            if (mode == \"training\"):\n",
    "                prefix = \"tr\"\n",
    "            if (mode == \"test\"):\n",
    "                prefix = \"ts\"\n",
    "                \n",
    "            predicted = np.loadtxt(\"%s/%sFitness.csv\" % (directory, prefix), delimiter=',', unpack=True)[-1]            \n",
    "        else:\n",
    "            directory = \"%s/%s/%s/%s/output-%s\" % (BASE_PATH, evol, strategy, k, dataset)\n",
    "            predicted = np.loadtxt(\"%s/%s_ensemble_%s_fitness.csv\" % (directory, mode, ensemble), delimiter=',', unpack=True)[-1]\n",
    "        medians.append(\"\\\\fn{%.5f}\" % np.median(predicted))\n",
    "    \n",
    "    return (\" & \".join(medians) + \" \\\\\\\\\")"
   ]
  },
  {
   "cell_type": "code",
   "execution_count": 413,
   "metadata": {
    "collapsed": false,
    "scrolled": true
   },
   "outputs": [
    {
     "name": "stdout",
     "output_type": "stream",
     "text": [
      "\\fn{33.48583} & \\fn{0.14373} & \\fn{396.58523} & \\fn{7.65279} & \\fn{3.36008} & \\fn{3.11467} & \\fn{10.09879} & \\fn{57.11237} & \\fn{0.65970} & \\fn{0.75899} \\\\\n"
     ]
    }
   ],
   "source": [
    "import pipes\n",
    "\n",
    "output = export_as_row('gsgp', 'kernel', 5, 'test', 'weighted')\n",
    "print(output)"
   ]
  },
  {
   "cell_type": "code",
   "execution_count": null,
   "metadata": {
    "collapsed": false
   },
   "outputs": [],
   "source": [
    "\n"
   ]
  },
  {
   "cell_type": "code",
   "execution_count": null,
   "metadata": {
    "collapsed": true
   },
   "outputs": [],
   "source": []
  }
 ],
 "metadata": {
  "anaconda-cloud": {},
  "kernelspec": {
   "display_name": "Python [default]",
   "language": "python",
   "name": "python3"
  },
  "language_info": {
   "codemirror_mode": {
    "name": "ipython",
    "version": 3
   },
   "file_extension": ".py",
   "mimetype": "text/x-python",
   "name": "python",
   "nbconvert_exporter": "python",
   "pygments_lexer": "ipython3",
   "version": "3.5.2"
  }
 },
 "nbformat": 4,
 "nbformat_minor": 2
}
